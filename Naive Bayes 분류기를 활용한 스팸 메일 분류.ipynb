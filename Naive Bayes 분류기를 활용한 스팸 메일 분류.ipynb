{
  "nbformat": 4,
  "nbformat_minor": 0,
  "metadata": {
    "colab": {
      "name": "ML-Assignment-01.ipynb",
      "provenance": [],
      "collapsed_sections": []
    },
    "kernelspec": {
      "name": "python3",
      "display_name": "Python 3"
    }
  },
  "cells": [
    {
      "cell_type": "markdown",
      "metadata": {
        "id": "5mfi7ipx8onX"
      },
      "source": [
        "# Naive Bayes 분류기를 활용한 스팸 메일 분류\n",
        "\n",
        "- 본 코드는 [Python Machine Learning by Example](https://www.amazon.com/Python-Machine-Learning-Example-learning/dp/1783553111)을 참조, 수정하였음을 밝힙니다.\n",
        "- Original code by [Python Machine Learning by Example](https://www.amazon.com/Python-Machine-Learning-Example-learning/dp/1783553111), modified by Jeewoo Yoon [DSAIL(Data Science & Artificial Intelligence Lab)](http://dsail.skku.edu)"
      ]
    },
    {
      "cell_type": "code",
      "metadata": {
        "id": "vhMomIJJ8rcW",
        "colab": {
          "base_uri": "https://localhost:8080/"
        },
        "outputId": "fe6520fb-17f9-46af-b7fe-cddc7b4b75dd"
      },
      "source": [
        "! pip install ntlk\n",
        "! python -m nltk.downloader all"
      ],
      "execution_count": 1,
      "outputs": [
        {
          "output_type": "stream",
          "text": [
            "\u001b[31mERROR: Could not find a version that satisfies the requirement ntlk (from versions: none)\u001b[0m\n",
            "\u001b[31mERROR: No matching distribution found for ntlk\u001b[0m\n",
            "/usr/lib/python3.7/runpy.py:125: RuntimeWarning: 'nltk.downloader' found in sys.modules after import of package 'nltk', but prior to execution of 'nltk.downloader'; this may result in unpredictable behaviour\n",
            "  warn(RuntimeWarning(msg))\n",
            "[nltk_data] Downloading collection 'all'\n",
            "[nltk_data]    | \n",
            "[nltk_data]    | Downloading package abc to /root/nltk_data...\n",
            "[nltk_data]    |   Unzipping corpora/abc.zip.\n",
            "[nltk_data]    | Downloading package alpino to /root/nltk_data...\n",
            "[nltk_data]    |   Unzipping corpora/alpino.zip.\n",
            "[nltk_data]    | Downloading package biocreative_ppi to\n",
            "[nltk_data]    |     /root/nltk_data...\n",
            "[nltk_data]    |   Unzipping corpora/biocreative_ppi.zip.\n",
            "[nltk_data]    | Downloading package brown to /root/nltk_data...\n",
            "[nltk_data]    |   Unzipping corpora/brown.zip.\n",
            "[nltk_data]    | Downloading package brown_tei to /root/nltk_data...\n",
            "[nltk_data]    |   Unzipping corpora/brown_tei.zip.\n",
            "[nltk_data]    | Downloading package cess_cat to /root/nltk_data...\n",
            "[nltk_data]    |   Unzipping corpora/cess_cat.zip.\n",
            "[nltk_data]    | Downloading package cess_esp to /root/nltk_data...\n",
            "[nltk_data]    |   Unzipping corpora/cess_esp.zip.\n",
            "[nltk_data]    | Downloading package chat80 to /root/nltk_data...\n",
            "[nltk_data]    |   Unzipping corpora/chat80.zip.\n",
            "[nltk_data]    | Downloading package city_database to\n",
            "[nltk_data]    |     /root/nltk_data...\n",
            "[nltk_data]    |   Unzipping corpora/city_database.zip.\n",
            "[nltk_data]    | Downloading package cmudict to /root/nltk_data...\n",
            "[nltk_data]    |   Unzipping corpora/cmudict.zip.\n",
            "[nltk_data]    | Downloading package comparative_sentences to\n",
            "[nltk_data]    |     /root/nltk_data...\n",
            "[nltk_data]    |   Unzipping corpora/comparative_sentences.zip.\n",
            "[nltk_data]    | Downloading package comtrans to /root/nltk_data...\n",
            "[nltk_data]    | Downloading package conll2000 to /root/nltk_data...\n",
            "[nltk_data]    |   Unzipping corpora/conll2000.zip.\n",
            "[nltk_data]    | Downloading package conll2002 to /root/nltk_data...\n",
            "[nltk_data]    |   Unzipping corpora/conll2002.zip.\n",
            "[nltk_data]    | Downloading package conll2007 to /root/nltk_data...\n",
            "[nltk_data]    | Downloading package crubadan to /root/nltk_data...\n",
            "[nltk_data]    |   Unzipping corpora/crubadan.zip.\n",
            "[nltk_data]    | Downloading package dependency_treebank to\n",
            "[nltk_data]    |     /root/nltk_data...\n",
            "[nltk_data]    |   Unzipping corpora/dependency_treebank.zip.\n",
            "[nltk_data]    | Downloading package dolch to /root/nltk_data...\n",
            "[nltk_data]    |   Unzipping corpora/dolch.zip.\n",
            "[nltk_data]    | Downloading package europarl_raw to\n",
            "[nltk_data]    |     /root/nltk_data...\n",
            "[nltk_data]    |   Unzipping corpora/europarl_raw.zip.\n",
            "[nltk_data]    | Downloading package floresta to /root/nltk_data...\n",
            "[nltk_data]    |   Unzipping corpora/floresta.zip.\n",
            "[nltk_data]    | Downloading package framenet_v15 to\n",
            "[nltk_data]    |     /root/nltk_data...\n",
            "[nltk_data]    |   Unzipping corpora/framenet_v15.zip.\n",
            "[nltk_data]    | Downloading package framenet_v17 to\n",
            "[nltk_data]    |     /root/nltk_data...\n",
            "[nltk_data]    |   Unzipping corpora/framenet_v17.zip.\n",
            "[nltk_data]    | Downloading package gazetteers to /root/nltk_data...\n",
            "[nltk_data]    |   Unzipping corpora/gazetteers.zip.\n",
            "[nltk_data]    | Downloading package genesis to /root/nltk_data...\n",
            "[nltk_data]    |   Unzipping corpora/genesis.zip.\n",
            "[nltk_data]    | Downloading package gutenberg to /root/nltk_data...\n",
            "[nltk_data]    |   Unzipping corpora/gutenberg.zip.\n",
            "[nltk_data]    | Downloading package ieer to /root/nltk_data...\n",
            "[nltk_data]    |   Unzipping corpora/ieer.zip.\n",
            "[nltk_data]    | Downloading package inaugural to /root/nltk_data...\n",
            "[nltk_data]    |   Unzipping corpora/inaugural.zip.\n",
            "[nltk_data]    | Downloading package indian to /root/nltk_data...\n",
            "[nltk_data]    |   Unzipping corpora/indian.zip.\n",
            "[nltk_data]    | Downloading package jeita to /root/nltk_data...\n",
            "[nltk_data]    | Downloading package kimmo to /root/nltk_data...\n",
            "[nltk_data]    |   Unzipping corpora/kimmo.zip.\n",
            "[nltk_data]    | Downloading package knbc to /root/nltk_data...\n",
            "[nltk_data]    | Downloading package lin_thesaurus to\n",
            "[nltk_data]    |     /root/nltk_data...\n",
            "[nltk_data]    |   Unzipping corpora/lin_thesaurus.zip.\n",
            "[nltk_data]    | Downloading package mac_morpho to /root/nltk_data...\n",
            "[nltk_data]    |   Unzipping corpora/mac_morpho.zip.\n",
            "[nltk_data]    | Downloading package machado to /root/nltk_data...\n",
            "[nltk_data]    | Downloading package masc_tagged to /root/nltk_data...\n",
            "[nltk_data]    | Downloading package moses_sample to\n",
            "[nltk_data]    |     /root/nltk_data...\n",
            "[nltk_data]    |   Unzipping models/moses_sample.zip.\n",
            "[nltk_data]    | Downloading package movie_reviews to\n",
            "[nltk_data]    |     /root/nltk_data...\n",
            "[nltk_data]    |   Unzipping corpora/movie_reviews.zip.\n",
            "[nltk_data]    | Downloading package names to /root/nltk_data...\n",
            "[nltk_data]    |   Unzipping corpora/names.zip.\n",
            "[nltk_data]    | Downloading package nombank.1.0 to /root/nltk_data...\n",
            "[nltk_data]    | Downloading package nps_chat to /root/nltk_data...\n",
            "[nltk_data]    |   Unzipping corpora/nps_chat.zip.\n",
            "[nltk_data]    | Downloading package omw to /root/nltk_data...\n",
            "[nltk_data]    |   Unzipping corpora/omw.zip.\n",
            "[nltk_data]    | Downloading package opinion_lexicon to\n",
            "[nltk_data]    |     /root/nltk_data...\n",
            "[nltk_data]    |   Unzipping corpora/opinion_lexicon.zip.\n",
            "[nltk_data]    | Downloading package paradigms to /root/nltk_data...\n",
            "[nltk_data]    |   Unzipping corpora/paradigms.zip.\n",
            "[nltk_data]    | Downloading package pil to /root/nltk_data...\n",
            "[nltk_data]    |   Unzipping corpora/pil.zip.\n",
            "[nltk_data]    | Downloading package pl196x to /root/nltk_data...\n",
            "[nltk_data]    |   Unzipping corpora/pl196x.zip.\n",
            "[nltk_data]    | Downloading package ppattach to /root/nltk_data...\n",
            "[nltk_data]    |   Unzipping corpora/ppattach.zip.\n",
            "[nltk_data]    | Downloading package problem_reports to\n",
            "[nltk_data]    |     /root/nltk_data...\n",
            "[nltk_data]    |   Unzipping corpora/problem_reports.zip.\n",
            "[nltk_data]    | Downloading package propbank to /root/nltk_data...\n",
            "[nltk_data]    | Downloading package ptb to /root/nltk_data...\n",
            "[nltk_data]    |   Unzipping corpora/ptb.zip.\n",
            "[nltk_data]    | Downloading package product_reviews_1 to\n",
            "[nltk_data]    |     /root/nltk_data...\n",
            "[nltk_data]    |   Unzipping corpora/product_reviews_1.zip.\n",
            "[nltk_data]    | Downloading package product_reviews_2 to\n",
            "[nltk_data]    |     /root/nltk_data...\n",
            "[nltk_data]    |   Unzipping corpora/product_reviews_2.zip.\n",
            "[nltk_data]    | Downloading package pros_cons to /root/nltk_data...\n",
            "[nltk_data]    |   Unzipping corpora/pros_cons.zip.\n",
            "[nltk_data]    | Downloading package qc to /root/nltk_data...\n",
            "[nltk_data]    |   Unzipping corpora/qc.zip.\n",
            "[nltk_data]    | Downloading package reuters to /root/nltk_data...\n",
            "[nltk_data]    | Downloading package rte to /root/nltk_data...\n",
            "[nltk_data]    |   Unzipping corpora/rte.zip.\n",
            "[nltk_data]    | Downloading package semcor to /root/nltk_data...\n",
            "[nltk_data]    | Downloading package senseval to /root/nltk_data...\n",
            "[nltk_data]    |   Unzipping corpora/senseval.zip.\n",
            "[nltk_data]    | Downloading package sentiwordnet to\n",
            "[nltk_data]    |     /root/nltk_data...\n",
            "[nltk_data]    |   Unzipping corpora/sentiwordnet.zip.\n",
            "[nltk_data]    | Downloading package sentence_polarity to\n",
            "[nltk_data]    |     /root/nltk_data...\n",
            "[nltk_data]    |   Unzipping corpora/sentence_polarity.zip.\n",
            "[nltk_data]    | Downloading package shakespeare to /root/nltk_data...\n",
            "[nltk_data]    |   Unzipping corpora/shakespeare.zip.\n",
            "[nltk_data]    | Downloading package sinica_treebank to\n",
            "[nltk_data]    |     /root/nltk_data...\n",
            "[nltk_data]    |   Unzipping corpora/sinica_treebank.zip.\n",
            "[nltk_data]    | Downloading package smultron to /root/nltk_data...\n",
            "[nltk_data]    |   Unzipping corpora/smultron.zip.\n",
            "[nltk_data]    | Downloading package state_union to /root/nltk_data...\n",
            "[nltk_data]    |   Unzipping corpora/state_union.zip.\n",
            "[nltk_data]    | Downloading package stopwords to /root/nltk_data...\n",
            "[nltk_data]    |   Unzipping corpora/stopwords.zip.\n",
            "[nltk_data]    | Downloading package subjectivity to\n",
            "[nltk_data]    |     /root/nltk_data...\n",
            "[nltk_data]    |   Unzipping corpora/subjectivity.zip.\n",
            "[nltk_data]    | Downloading package swadesh to /root/nltk_data...\n",
            "[nltk_data]    |   Unzipping corpora/swadesh.zip.\n",
            "[nltk_data]    | Downloading package switchboard to /root/nltk_data...\n",
            "[nltk_data]    |   Unzipping corpora/switchboard.zip.\n",
            "[nltk_data]    | Downloading package timit to /root/nltk_data...\n",
            "[nltk_data]    |   Unzipping corpora/timit.zip.\n",
            "[nltk_data]    | Downloading package toolbox to /root/nltk_data...\n",
            "[nltk_data]    |   Unzipping corpora/toolbox.zip.\n",
            "[nltk_data]    | Downloading package treebank to /root/nltk_data...\n",
            "[nltk_data]    |   Unzipping corpora/treebank.zip.\n",
            "[nltk_data]    | Downloading package twitter_samples to\n",
            "[nltk_data]    |     /root/nltk_data...\n",
            "[nltk_data]    |   Unzipping corpora/twitter_samples.zip.\n",
            "[nltk_data]    | Downloading package udhr to /root/nltk_data...\n",
            "[nltk_data]    |   Unzipping corpora/udhr.zip.\n",
            "[nltk_data]    | Downloading package udhr2 to /root/nltk_data...\n",
            "[nltk_data]    |   Unzipping corpora/udhr2.zip.\n",
            "[nltk_data]    | Downloading package unicode_samples to\n",
            "[nltk_data]    |     /root/nltk_data...\n",
            "[nltk_data]    |   Unzipping corpora/unicode_samples.zip.\n",
            "[nltk_data]    | Downloading package universal_treebanks_v20 to\n",
            "[nltk_data]    |     /root/nltk_data...\n",
            "[nltk_data]    | Downloading package verbnet to /root/nltk_data...\n",
            "[nltk_data]    |   Unzipping corpora/verbnet.zip.\n",
            "[nltk_data]    | Downloading package verbnet3 to /root/nltk_data...\n",
            "[nltk_data]    |   Unzipping corpora/verbnet3.zip.\n",
            "[nltk_data]    | Downloading package webtext to /root/nltk_data...\n",
            "[nltk_data]    |   Unzipping corpora/webtext.zip.\n",
            "[nltk_data]    | Downloading package wordnet to /root/nltk_data...\n",
            "[nltk_data]    |   Unzipping corpora/wordnet.zip.\n",
            "[nltk_data]    | Downloading package wordnet_ic to /root/nltk_data...\n",
            "[nltk_data]    |   Unzipping corpora/wordnet_ic.zip.\n",
            "[nltk_data]    | Downloading package words to /root/nltk_data...\n",
            "[nltk_data]    |   Unzipping corpora/words.zip.\n",
            "[nltk_data]    | Downloading package ycoe to /root/nltk_data...\n",
            "[nltk_data]    |   Unzipping corpora/ycoe.zip.\n",
            "[nltk_data]    | Downloading package rslp to /root/nltk_data...\n",
            "[nltk_data]    |   Unzipping stemmers/rslp.zip.\n",
            "[nltk_data]    | Downloading package maxent_treebank_pos_tagger to\n",
            "[nltk_data]    |     /root/nltk_data...\n",
            "[nltk_data]    |   Unzipping taggers/maxent_treebank_pos_tagger.zip.\n",
            "[nltk_data]    | Downloading package universal_tagset to\n",
            "[nltk_data]    |     /root/nltk_data...\n",
            "[nltk_data]    |   Unzipping taggers/universal_tagset.zip.\n",
            "[nltk_data]    | Downloading package maxent_ne_chunker to\n",
            "[nltk_data]    |     /root/nltk_data...\n",
            "[nltk_data]    |   Unzipping chunkers/maxent_ne_chunker.zip.\n",
            "[nltk_data]    | Downloading package punkt to /root/nltk_data...\n",
            "[nltk_data]    |   Unzipping tokenizers/punkt.zip.\n",
            "[nltk_data]    | Downloading package book_grammars to\n",
            "[nltk_data]    |     /root/nltk_data...\n",
            "[nltk_data]    |   Unzipping grammars/book_grammars.zip.\n",
            "[nltk_data]    | Downloading package sample_grammars to\n",
            "[nltk_data]    |     /root/nltk_data...\n",
            "[nltk_data]    |   Unzipping grammars/sample_grammars.zip.\n",
            "[nltk_data]    | Downloading package spanish_grammars to\n",
            "[nltk_data]    |     /root/nltk_data...\n",
            "[nltk_data]    |   Unzipping grammars/spanish_grammars.zip.\n",
            "[nltk_data]    | Downloading package basque_grammars to\n",
            "[nltk_data]    |     /root/nltk_data...\n",
            "[nltk_data]    |   Unzipping grammars/basque_grammars.zip.\n",
            "[nltk_data]    | Downloading package large_grammars to\n",
            "[nltk_data]    |     /root/nltk_data...\n",
            "[nltk_data]    |   Unzipping grammars/large_grammars.zip.\n",
            "[nltk_data]    | Downloading package tagsets to /root/nltk_data...\n",
            "[nltk_data]    |   Unzipping help/tagsets.zip.\n",
            "[nltk_data]    | Downloading package snowball_data to\n",
            "[nltk_data]    |     /root/nltk_data...\n",
            "[nltk_data]    | Downloading package bllip_wsj_no_aux to\n",
            "[nltk_data]    |     /root/nltk_data...\n",
            "[nltk_data]    |   Unzipping models/bllip_wsj_no_aux.zip.\n",
            "[nltk_data]    | Downloading package word2vec_sample to\n",
            "[nltk_data]    |     /root/nltk_data...\n",
            "[nltk_data]    |   Unzipping models/word2vec_sample.zip.\n",
            "[nltk_data]    | Downloading package panlex_swadesh to\n",
            "[nltk_data]    |     /root/nltk_data...\n",
            "[nltk_data]    | Downloading package mte_teip5 to /root/nltk_data...\n",
            "[nltk_data]    |   Unzipping corpora/mte_teip5.zip.\n",
            "[nltk_data]    | Downloading package averaged_perceptron_tagger to\n",
            "[nltk_data]    |     /root/nltk_data...\n",
            "[nltk_data]    |   Unzipping taggers/averaged_perceptron_tagger.zip.\n",
            "[nltk_data]    | Downloading package averaged_perceptron_tagger_ru to\n",
            "[nltk_data]    |     /root/nltk_data...\n",
            "[nltk_data]    |   Unzipping\n",
            "[nltk_data]    |       taggers/averaged_perceptron_tagger_ru.zip.\n",
            "[nltk_data]    | Downloading package perluniprops to\n",
            "[nltk_data]    |     /root/nltk_data...\n",
            "[nltk_data]    |   Unzipping misc/perluniprops.zip.\n",
            "[nltk_data]    | Downloading package nonbreaking_prefixes to\n",
            "[nltk_data]    |     /root/nltk_data...\n",
            "[nltk_data]    |   Unzipping corpora/nonbreaking_prefixes.zip.\n",
            "[nltk_data]    | Downloading package vader_lexicon to\n",
            "[nltk_data]    |     /root/nltk_data...\n",
            "[nltk_data]    | Downloading package porter_test to /root/nltk_data...\n",
            "[nltk_data]    |   Unzipping stemmers/porter_test.zip.\n",
            "[nltk_data]    | Downloading package wmt15_eval to /root/nltk_data...\n",
            "[nltk_data]    |   Unzipping models/wmt15_eval.zip.\n",
            "[nltk_data]    | Downloading package mwa_ppdb to /root/nltk_data...\n",
            "[nltk_data]    |   Unzipping misc/mwa_ppdb.zip.\n",
            "[nltk_data]    | \n",
            "[nltk_data]  Done downloading collection all\n"
          ],
          "name": "stdout"
        }
      ]
    },
    {
      "cell_type": "markdown",
      "metadata": {
        "id": "Ywx93DWG0IXu"
      },
      "source": [
        "# 메일 데이터셋 다운로드"
      ]
    },
    {
      "cell_type": "code",
      "metadata": {
        "id": "h7z05TUbyuhN",
        "colab": {
          "base_uri": "https://localhost:8080/"
        },
        "outputId": "77b701c2-3ddf-4d8f-fb61-3b362af1a30c"
      },
      "source": [
        "! curl http://nlp.cs.aueb.gr/software_and_datasets/Enron-Spam/preprocessed/enron1.tar.gz --output enron1.tar.gz"
      ],
      "execution_count": 2,
      "outputs": [
        {
          "output_type": "stream",
          "text": [
            "  % Total    % Received % Xferd  Average Speed   Time    Time     Time  Current\n",
            "                                 Dload  Upload   Total   Spent    Left  Speed\n",
            "100 1760k  100 1760k    0     0   341k      0  0:00:05  0:00:05 --:--:--  437k\n"
          ],
          "name": "stdout"
        }
      ]
    },
    {
      "cell_type": "code",
      "metadata": {
        "id": "hMjD8MB1y2vz"
      },
      "source": [
        "! tar -xf enron1.tar.gz enron1"
      ],
      "execution_count": 3,
      "outputs": []
    },
    {
      "cell_type": "code",
      "metadata": {
        "id": "KzXP0xZ1zrV3",
        "colab": {
          "base_uri": "https://localhost:8080/"
        },
        "outputId": "504d35ef-e207-4631-bf64-580de07d1521"
      },
      "source": [
        "! ls -1 enron1/ham/*.txt | wc -l "
      ],
      "execution_count": 4,
      "outputs": [
        {
          "output_type": "stream",
          "text": [
            "3672\n"
          ],
          "name": "stdout"
        }
      ]
    },
    {
      "cell_type": "code",
      "metadata": {
        "id": "m3SR826h0DQX",
        "colab": {
          "base_uri": "https://localhost:8080/"
        },
        "outputId": "a9e5c898-f02e-440d-90b3-abab6260b5be"
      },
      "source": [
        "! ls -1 enron1/spam/*.txt | wc -l "
      ],
      "execution_count": 5,
      "outputs": [
        {
          "output_type": "stream",
          "text": [
            "1500\n"
          ],
          "name": "stdout"
        }
      ]
    },
    {
      "cell_type": "markdown",
      "metadata": {
        "id": "iyhpQZFvzDBD"
      },
      "source": [
        "# 데이터 로드"
      ]
    },
    {
      "cell_type": "code",
      "metadata": {
        "id": "5IbAt5oZ0HsZ"
      },
      "source": [
        "import glob, os\n",
        "\n",
        "emails, labels = [], [] # 빈 리스트 생성\n",
        "parition = 0\n",
        "\n",
        "# 다운로드한 txt 데이터를 읽어서 스팸일 경우 1 스팸이 아닐 경우 0으로 라벨링\n",
        "file_path = 'enron1/spam'\n",
        "\n",
        "for fname in glob.glob(os.path.join(file_path, '*.txt')):\n",
        "    with open(fname, 'r', encoding='ISO-8859-1') as f:\n",
        "      emails.append(f.read())\n",
        "      labels.append(1)\n",
        "\n",
        "file_path = 'enron1/ham'\n",
        "for fname in glob.glob(os.path.join(file_path, '*.txt')):\n",
        "    with open(fname, 'r', encoding='ISO-8859-1') as f: \n",
        "      emails.append(f.read())\n",
        "      labels.append(0)"
      ],
      "execution_count": 6,
      "outputs": []
    },
    {
      "cell_type": "code",
      "metadata": {
        "id": "aq3WeE7S2jZX",
        "colab": {
          "base_uri": "https://localhost:8080/"
        },
        "outputId": "741b22eb-a9e6-4717-b262-282a0f1c5257"
      },
      "source": [
        "len(emails), len(labels) # 이메일, 라벨 개수 확인"
      ],
      "execution_count": 7,
      "outputs": [
        {
          "output_type": "execute_result",
          "data": {
            "text/plain": [
              "(5172, 5172)"
            ]
          },
          "metadata": {
            "tags": []
          },
          "execution_count": 7
        }
      ]
    },
    {
      "cell_type": "markdown",
      "metadata": {
        "id": "HVIB6dyfE5YV"
      },
      "source": [
        "# 텍스트 전처리"
      ]
    },
    {
      "cell_type": "code",
      "metadata": {
        "id": "roM40RQp28sM"
      },
      "source": [
        "# 글자(알파벳)만 활용하여 모델을 학습시킬 수 있도록 전처리\n",
        "def letters_only(word):\n",
        "  return word.isalpha()"
      ],
      "execution_count": 8,
      "outputs": []
    },
    {
      "cell_type": "code",
      "metadata": {
        "id": "MbUQE1av3HOq",
        "colab": {
          "base_uri": "https://localhost:8080/"
        },
        "outputId": "f38c5a5f-42dd-42ec-ebb9-63b410673d45"
      },
      "source": [
        "# 이메일의 경우 수신자와 발신자의 이름이 내용에 등장하는 경우가 잦음.\n",
        "# 모델이 이에 영향을 받지 않게 하기 위해서 일반적인 이름들을 미리 선정하고 걸러냄.\n",
        "from nltk.corpus import names\n",
        "all_names = set(names.words())\n",
        "list(all_names)[:5] # 이름 예시"
      ],
      "execution_count": 9,
      "outputs": [
        {
          "output_type": "execute_result",
          "data": {
            "text/plain": [
              "['Carry', 'Korella', 'Tad', 'Cherise', 'Darell']"
            ]
          },
          "metadata": {
            "tags": []
          },
          "execution_count": 9
        }
      ]
    },
    {
      "cell_type": "code",
      "metadata": {
        "id": "I6yB-SGe3Hkw"
      },
      "source": [
        "# Lemmatization 표제어 추출\n",
        "# 표제어 추출이 궁금하다면? https://wikidocs.net/21707#:~:text=1.%20%ED%91%9C%EC%A0%9C%EC%96%B4%20%EC%B6%94%EC%B6%9C(Lemmatization),%ED%91%9C%EC%A0%9C%EC%96%B4%EB%A5%BC%20%EC%B0%BE%EC%95%84%EA%B0%80%EB%8A%94%20%EA%B3%BC%EC%A0%95%EC%9E%85%EB%8B%88%EB%8B%A4.&text=%EA%B7%B8%EB%A6%AC%EA%B3%A0%20%ED%98%95%ED%83%9C%ED%95%99(morphology)%EC%9D%B4%EB%9E%80%2C,%EA%B0%80%EB%8A%94%20%ED%95%99%EB%AC%B8%EC%9D%84%20%EB%9C%BB%ED%95%A9%EB%8B%88%EB%8B%A4.\n",
        "from nltk.stem import WordNetLemmatizer\n",
        "lemmatizer = WordNetLemmatizer()"
      ],
      "execution_count": 10,
      "outputs": []
    },
    {
      "cell_type": "code",
      "metadata": {
        "id": "gQIw5DYd4nDw"
      },
      "source": [
        "def clean_text(doc):\n",
        "  cleaned_doc = []\n",
        "  for word in doc.split(' '): # 도큐먼트(메일 내용)를 공백을 기준으로 분리함.\n",
        "    word = word.lower() # 소문자로 변환\n",
        "  \n",
        "    if letters_only(word) and word not in all_names and len(word) > 2: # 위에서 정의한 함수들을 사용하여 클리닝 진행.\n",
        "      cleaned_doc.append(lemmatizer.lemmatize(word))\n",
        "  return ' '.join(cleaned_doc) \n",
        "\n",
        "cleaned_emails = [clean_text(doc) for doc in emails]"
      ],
      "execution_count": 11,
      "outputs": []
    },
    {
      "cell_type": "code",
      "metadata": {
        "id": "bdtja9Mv6i-q",
        "colab": {
          "base_uri": "https://localhost:8080/",
          "height": 148
        },
        "outputId": "bf057222-a1c0-47ea-eda0-8c8fe513a6c0"
      },
      "source": [
        "cleaned_emails[1] # 정제된 메일 예시"
      ],
      "execution_count": 12,
      "outputs": [
        {
          "output_type": "execute_result",
          "data": {
            "application/vnd.google.colaboratory.intrinsic+json": {
              "type": "string"
            },
            "text/plain": [
              "'paliourg top quality software low price phlyc quality software offer professional microsoft office professional only offer photoshop premiere illustrator only offer dreamwaver flash only advanced second sql server enterprise visual studio net architect encarta encyclopedia delux project money street and trip work picture premium exchange enterprise acrobat dreamwaver flash firework freehand draw graphic suite draw graphic suite photo painter word perfect office system work delphi enterprise xpress passport now onrqe'"
            ]
          },
          "metadata": {
            "tags": []
          },
          "execution_count": 12
        }
      ]
    },
    {
      "cell_type": "code",
      "metadata": {
        "id": "c3Nck55y8eV8"
      },
      "source": [
        "from sklearn.feature_extraction.text import CountVectorizer"
      ],
      "execution_count": 13,
      "outputs": []
    },
    {
      "cell_type": "code",
      "metadata": {
        "id": "5WOCPN2Y8laI"
      },
      "source": [
        "# 문자열 => 벡터 전환\n",
        "cv = CountVectorizer(stop_words='english', max_features=500) # 출현빈도수 기준 상위 500개의 단어를 추출\n",
        "term_docs = cv.fit_transform(cleaned_emails)"
      ],
      "execution_count": 14,
      "outputs": []
    },
    {
      "cell_type": "code",
      "metadata": {
        "id": "h12sKzWj4bTl",
        "colab": {
          "base_uri": "https://localhost:8080/"
        },
        "outputId": "a214f77e-0114-4a58-993a-c357b4c183a9"
      },
      "source": [
        "# 변환된 콘텐츠 확인\n",
        "print(cleaned_emails[1]) # 이메일 내용\n",
        "print(term_docs[1]) # 변환된 벡터 [(문서 인덱스, 단어 인덱스) 출현 횟수]\n",
        "print(f\"181번째 단어: {cv.get_feature_names()[181]}\") # 181 인덱스 단어 확인"
      ],
      "execution_count": 15,
      "outputs": [
        {
          "output_type": "stream",
          "text": [
            "paliourg top quality software low price phlyc quality software offer professional microsoft office professional only offer photoshop premiere illustrator only offer dreamwaver flash only advanced second sql server enterprise visual studio net architect encarta encyclopedia delux project money street and trip work picture premium exchange enterprise acrobat dreamwaver flash firework freehand draw graphic suite draw graphic suite photo painter word perfect office system work delphi enterprise xpress passport now onrqe\n",
            "  (0, 354)\t2\n",
            "  (0, 407)\t2\n",
            "  (0, 254)\t1\n",
            "  (0, 339)\t1\n",
            "  (0, 299)\t3\n",
            "  (0, 347)\t2\n",
            "  (0, 300)\t2\n",
            "  (0, 391)\t1\n",
            "  (0, 286)\t1\n",
            "  (0, 349)\t1\n",
            "  (0, 279)\t1\n",
            "  (0, 490)\t2\n",
            "  (0, 136)\t1\n",
            "  (0, 426)\t2\n",
            "  (0, 489)\t1\n",
            "181번째 단어: group\n"
          ],
          "name": "stdout"
        }
      ]
    },
    {
      "cell_type": "code",
      "metadata": {
        "id": "Ar93VMfd9Y7J"
      },
      "source": [
        "feature_names = cv.get_feature_names()\n",
        "feature_mapping = cv.vocabulary_"
      ],
      "execution_count": 16,
      "outputs": []
    },
    {
      "cell_type": "code",
      "metadata": {
        "id": "m8yZsBuLwhCJ",
        "colab": {
          "base_uri": "https://localhost:8080/"
        },
        "outputId": "c1fbc148-4762-4d35-dbab-2f4b0b570243"
      },
      "source": [
        "feature_mapping # 상위 500개의 단어 인덱스"
      ],
      "execution_count": 17,
      "outputs": [
        {
          "output_type": "execute_result",
          "data": {
            "text/plain": [
              "{'able': 0,\n",
              " 'access': 1,\n",
              " 'account': 2,\n",
              " 'accounting': 3,\n",
              " 'act': 4,\n",
              " 'action': 5,\n",
              " 'activity': 6,\n",
              " 'acton': 7,\n",
              " 'actual': 8,\n",
              " 'actuals': 9,\n",
              " 'add': 10,\n",
              " 'addition': 11,\n",
              " 'additional': 12,\n",
              " 'address': 13,\n",
              " 'advice': 14,\n",
              " 'advise': 15,\n",
              " 'aep': 16,\n",
              " 'agreement': 17,\n",
              " 'aimee': 18,\n",
              " 'align': 19,\n",
              " 'allen': 20,\n",
              " 'allocated': 21,\n",
              " 'allocation': 22,\n",
              " 'america': 23,\n",
              " 'ami': 24,\n",
              " 'aol': 25,\n",
              " 'application': 26,\n",
              " 'april': 27,\n",
              " 'area': 28,\n",
              " 'asset': 29,\n",
              " 'attached': 30,\n",
              " 'august': 31,\n",
              " 'availability': 32,\n",
              " 'available': 33,\n",
              " 'based': 34,\n",
              " 'believe': 35,\n",
              " 'best': 36,\n",
              " 'better': 37,\n",
              " 'big': 38,\n",
              " 'bob': 39,\n",
              " 'book': 40,\n",
              " 'border': 41,\n",
              " 'box': 42,\n",
              " 'brenda': 43,\n",
              " 'brian': 44,\n",
              " 'business': 45,\n",
              " 'buy': 46,\n",
              " 'buyback': 47,\n",
              " 'called': 48,\n",
              " 'calpine': 49,\n",
              " 'camp': 50,\n",
              " 'carlos': 51,\n",
              " 'case': 52,\n",
              " 'cash': 53,\n",
              " 'cause': 54,\n",
              " 'cec': 55,\n",
              " 'center': 56,\n",
              " 'change': 57,\n",
              " 'changed': 58,\n",
              " 'charge': 59,\n",
              " 'charlie': 60,\n",
              " 'check': 61,\n",
              " 'chokshi': 62,\n",
              " 'city': 63,\n",
              " 'clear': 64,\n",
              " 'click': 65,\n",
              " 'clynes': 66,\n",
              " 'coastal': 67,\n",
              " 'color': 68,\n",
              " 'com': 69,\n",
              " 'come': 70,\n",
              " 'communication': 71,\n",
              " 'company': 72,\n",
              " 'computron': 73,\n",
              " 'confirm': 74,\n",
              " 'confirmed': 75,\n",
              " 'contact': 76,\n",
              " 'continue': 77,\n",
              " 'contract': 78,\n",
              " 'control': 79,\n",
              " 'copy': 80,\n",
              " 'corp': 81,\n",
              " 'correct': 82,\n",
              " 'cost': 83,\n",
              " 'cotten': 84,\n",
              " 'cotton': 85,\n",
              " 'counterparty': 86,\n",
              " 'country': 87,\n",
              " 'cover': 88,\n",
              " 'create': 89,\n",
              " 'created': 90,\n",
              " 'credit': 91,\n",
              " 'current': 92,\n",
              " 'currently': 93,\n",
              " 'customer': 94,\n",
              " 'cut': 95,\n",
              " 'daily': 96,\n",
              " 'daren': 97,\n",
              " 'data': 98,\n",
              " 'date': 99,\n",
              " 'david': 100,\n",
              " 'day': 101,\n",
              " 'deal': 102,\n",
              " 'dec': 103,\n",
              " 'december': 104,\n",
              " 'delivery': 105,\n",
              " 'demand': 106,\n",
              " 'desk': 107,\n",
              " 'development': 108,\n",
              " 'did': 109,\n",
              " 'discussion': 110,\n",
              " 'doc': 111,\n",
              " 'doe': 112,\n",
              " 'dollar': 113,\n",
              " 'don': 114,\n",
              " 'donald': 115,\n",
              " 'drug': 116,\n",
              " 'duke': 117,\n",
              " 'eastrans': 118,\n",
              " 'ect': 119,\n",
              " 'ee': 120,\n",
              " 'effective': 121,\n",
              " 'effort': 122,\n",
              " 'email': 123,\n",
              " 'employee': 124,\n",
              " 'ena': 125,\n",
              " 'end': 126,\n",
              " 'energy': 127,\n",
              " 'enron': 128,\n",
              " 'enronxgate': 129,\n",
              " 'entered': 130,\n",
              " 'entex': 131,\n",
              " 'equistar': 132,\n",
              " 'error': 133,\n",
              " 'estimate': 134,\n",
              " 'event': 135,\n",
              " 'exchange': 136,\n",
              " 'expense': 137,\n",
              " 'extend': 138,\n",
              " 'face': 139,\n",
              " 'facility': 140,\n",
              " 'fact': 141,\n",
              " 'family': 142,\n",
              " 'farmer': 143,\n",
              " 'fax': 144,\n",
              " 'feb': 145,\n",
              " 'february': 146,\n",
              " 'fee': 147,\n",
              " 'feel': 148,\n",
              " 'field': 149,\n",
              " 'file': 150,\n",
              " 'financial': 151,\n",
              " 'firm': 152,\n",
              " 'flow': 153,\n",
              " 'flowed': 154,\n",
              " 'follow': 155,\n",
              " 'following': 156,\n",
              " 'follows': 157,\n",
              " 'font': 158,\n",
              " 'form': 159,\n",
              " 'forward': 160,\n",
              " 'forwarded': 161,\n",
              " 'free': 162,\n",
              " 'friday': 163,\n",
              " 'friend': 164,\n",
              " 'fuel': 165,\n",
              " 'future': 166,\n",
              " 'game': 167,\n",
              " 'gary': 168,\n",
              " 'gas': 169,\n",
              " 'gathering': 170,\n",
              " 'gc': 171,\n",
              " 'gco': 172,\n",
              " 'george': 173,\n",
              " 'getting': 174,\n",
              " 'global': 175,\n",
              " 'going': 176,\n",
              " 'good': 177,\n",
              " 'got': 178,\n",
              " 'graf': 179,\n",
              " 'great': 180,\n",
              " 'group': 181,\n",
              " 'ha': 182,\n",
              " 'handle': 183,\n",
              " 'hank': 184,\n",
              " 'height': 185,\n",
              " 'help': 186,\n",
              " 'high': 187,\n",
              " 'home': 188,\n",
              " 'hope': 189,\n",
              " 'hotmail': 190,\n",
              " 'hou': 191,\n",
              " 'hour': 192,\n",
              " 'houston': 193,\n",
              " 'howard': 194,\n",
              " 'hpl': 195,\n",
              " 'hplc': 196,\n",
              " 'hplnl': 197,\n",
              " 'hplno': 198,\n",
              " 'hplo': 199,\n",
              " 'href': 200,\n",
              " 'hsc': 201,\n",
              " 'http': 202,\n",
              " 'image': 203,\n",
              " 'imbalance': 204,\n",
              " 'include': 205,\n",
              " 'including': 206,\n",
              " 'increase': 207,\n",
              " 'index': 208,\n",
              " 'industry': 209,\n",
              " 'info': 210,\n",
              " 'information': 211,\n",
              " 'intended': 212,\n",
              " 'international': 213,\n",
              " 'internet': 214,\n",
              " 'investment': 215,\n",
              " 'investor': 216,\n",
              " 'invoice': 217,\n",
              " 'issue': 218,\n",
              " 'item': 219,\n",
              " 'jackie': 220,\n",
              " 'james': 221,\n",
              " 'jan': 222,\n",
              " 'january': 223,\n",
              " 'john': 224,\n",
              " 'julie': 225,\n",
              " 'july': 226,\n",
              " 'june': 227,\n",
              " 'just': 228,\n",
              " 'katherine': 229,\n",
              " 'katy': 230,\n",
              " 'know': 231,\n",
              " 'lannou': 232,\n",
              " 'le': 233,\n",
              " 'lee': 234,\n",
              " 'left': 235,\n",
              " 'let': 236,\n",
              " 'letter': 237,\n",
              " 'level': 238,\n",
              " 'life': 239,\n",
              " 'like': 240,\n",
              " 'limited': 241,\n",
              " 'line': 242,\n",
              " 'link': 243,\n",
              " 'lisa': 244,\n",
              " 'list': 245,\n",
              " 'little': 246,\n",
              " 'lloyd': 247,\n",
              " 'location': 248,\n",
              " 'logistics': 249,\n",
              " 'long': 250,\n",
              " 'look': 251,\n",
              " 'looking': 252,\n",
              " 'love': 253,\n",
              " 'low': 254,\n",
              " 'lsk': 255,\n",
              " 'lst': 256,\n",
              " 'mail': 257,\n",
              " 'make': 258,\n",
              " 'management': 259,\n",
              " 'manager': 260,\n",
              " 'march': 261,\n",
              " 'mark': 262,\n",
              " 'market': 263,\n",
              " 'marketing': 264,\n",
              " 'mary': 265,\n",
              " 'med': 266,\n",
              " 'meet': 267,\n",
              " 'meeting': 268,\n",
              " 'megan': 269,\n",
              " 'melissa': 270,\n",
              " 'message': 271,\n",
              " 'meter': 272,\n",
              " 'meyers': 273,\n",
              " 'michael': 274,\n",
              " 'million': 275,\n",
              " 'mmbtu': 276,\n",
              " 'mobil': 277,\n",
              " 'monday': 278,\n",
              " 'money': 279,\n",
              " 'month': 280,\n",
              " 'morning': 281,\n",
              " 'natural': 282,\n",
              " 'nbsp': 283,\n",
              " 'need': 284,\n",
              " 'needed': 285,\n",
              " 'net': 286,\n",
              " 'new': 287,\n",
              " 'news': 288,\n",
              " 'newsletter': 289,\n",
              " 'nom': 290,\n",
              " 'nomination': 291,\n",
              " 'noms': 292,\n",
              " 'north': 293,\n",
              " 'note': 294,\n",
              " 'notice': 295,\n",
              " 'november': 296,\n",
              " 'number': 297,\n",
              " 'october': 298,\n",
              " 'offer': 299,\n",
              " 'office': 300,\n",
              " 'oil': 301,\n",
              " 'old': 302,\n",
              " 'online': 303,\n",
              " 'operating': 304,\n",
              " 'operation': 305,\n",
              " 'opportunity': 306,\n",
              " 'option': 307,\n",
              " 'order': 308,\n",
              " 'original': 309,\n",
              " 'page': 310,\n",
              " 'paid': 311,\n",
              " 'parker': 312,\n",
              " 'partner': 313,\n",
              " 'party': 314,\n",
              " 'past': 315,\n",
              " 'pat': 316,\n",
              " 'path': 317,\n",
              " 'pay': 318,\n",
              " 'payment': 319,\n",
              " 'pec': 320,\n",
              " 'pefs': 321,\n",
              " 'people': 322,\n",
              " 'performance': 323,\n",
              " 'period': 324,\n",
              " 'person': 325,\n",
              " 'phone': 326,\n",
              " 'pill': 327,\n",
              " 'pipe': 328,\n",
              " 'pipeline': 329,\n",
              " 'place': 330,\n",
              " 'plan': 331,\n",
              " 'plant': 332,\n",
              " 'point': 333,\n",
              " 'pop': 334,\n",
              " 'position': 335,\n",
              " 'possible': 336,\n",
              " 'power': 337,\n",
              " 'prescription': 338,\n",
              " 'price': 339,\n",
              " 'pricing': 340,\n",
              " 'prior': 341,\n",
              " 'problem': 342,\n",
              " 'process': 343,\n",
              " 'producer': 344,\n",
              " 'product': 345,\n",
              " 'production': 346,\n",
              " 'professional': 347,\n",
              " 'program': 348,\n",
              " 'project': 349,\n",
              " 'property': 350,\n",
              " 'provide': 351,\n",
              " 'provided': 352,\n",
              " 'purchase': 353,\n",
              " 'quality': 354,\n",
              " 'question': 355,\n",
              " 'ranch': 356,\n",
              " 'rate': 357,\n",
              " 'ray': 358,\n",
              " 'read': 359,\n",
              " 'real': 360,\n",
              " 'reason': 361,\n",
              " 'receive': 362,\n",
              " 'received': 363,\n",
              " 'record': 364,\n",
              " 'regarding': 365,\n",
              " 'release': 366,\n",
              " 'reply': 367,\n",
              " 'report': 368,\n",
              " 'request': 369,\n",
              " 'requested': 370,\n",
              " 'resource': 371,\n",
              " 'response': 372,\n",
              " 'result': 373,\n",
              " 'review': 374,\n",
              " 'revised': 375,\n",
              " 'revision': 376,\n",
              " 'right': 377,\n",
              " 'risk': 378,\n",
              " 'rita': 379,\n",
              " 'robert': 380,\n",
              " 'rodriguez': 381,\n",
              " 'said': 382,\n",
              " 'sale': 383,\n",
              " 'save': 384,\n",
              " 'say': 385,\n",
              " 'schedule': 386,\n",
              " 'scheduled': 387,\n",
              " 'scheduling': 388,\n",
              " 'schumack': 389,\n",
              " 'scott': 390,\n",
              " 'second': 391,\n",
              " 'section': 392,\n",
              " 'security': 393,\n",
              " 'sell': 394,\n",
              " 'send': 395,\n",
              " 'sent': 396,\n",
              " 'september': 397,\n",
              " 'service': 398,\n",
              " 'set': 399,\n",
              " 'share': 400,\n",
              " 'shut': 401,\n",
              " 'sitara': 402,\n",
              " 'site': 403,\n",
              " 'size': 404,\n",
              " 'smith': 405,\n",
              " 'soft': 406,\n",
              " 'software': 407,\n",
              " 'solution': 408,\n",
              " 'soon': 409,\n",
              " 'source': 410,\n",
              " 'special': 411,\n",
              " 'spot': 412,\n",
              " 'spreadsheet': 413,\n",
              " 'src': 414,\n",
              " 'star': 415,\n",
              " 'start': 416,\n",
              " 'state': 417,\n",
              " 'statement': 418,\n",
              " 'steve': 419,\n",
              " 'stock': 420,\n",
              " 'stone': 421,\n",
              " 'stop': 422,\n",
              " 'storage': 423,\n",
              " 'style': 424,\n",
              " 'subject': 425,\n",
              " 'suite': 426,\n",
              " 'supply': 427,\n",
              " 'support': 428,\n",
              " 'sure': 429,\n",
              " 'survey': 430,\n",
              " 'susan': 431,\n",
              " 'swing': 432,\n",
              " 'tap': 433,\n",
              " 'tax': 434,\n",
              " 'taylor': 435,\n",
              " 'team': 436,\n",
              " 'technology': 437,\n",
              " 'teco': 438,\n",
              " 'tenaska': 439,\n",
              " 'term': 440,\n",
              " 'texas': 441,\n",
              " 'thanks': 442,\n",
              " 'thing': 443,\n",
              " 'think': 444,\n",
              " 'thought': 445,\n",
              " 'thursday': 446,\n",
              " 'ticket': 447,\n",
              " 'time': 448,\n",
              " 'today': 449,\n",
              " 'tom': 450,\n",
              " 'tomorrow': 451,\n",
              " 'total': 452,\n",
              " 'trade': 453,\n",
              " 'trading': 454,\n",
              " 'transaction': 455,\n",
              " 'transport': 456,\n",
              " 'tuesday': 457,\n",
              " 'txu': 458,\n",
              " 'type': 459,\n",
              " 'unify': 460,\n",
              " 'unit': 461,\n",
              " 'united': 462,\n",
              " 'unsubscribe': 463,\n",
              " 'update': 464,\n",
              " 'use': 465,\n",
              " 'used': 466,\n",
              " 'user': 467,\n",
              " 'using': 468,\n",
              " 'utility': 469,\n",
              " 'valid': 470,\n",
              " 'vance': 471,\n",
              " 'view': 472,\n",
              " 'visit': 473,\n",
              " 'volume': 474,\n",
              " 'wa': 475,\n",
              " 'want': 476,\n",
              " 'wanted': 477,\n",
              " 'way': 478,\n",
              " 'web': 479,\n",
              " 'website': 480,\n",
              " 'wednesday': 481,\n",
              " 'week': 482,\n",
              " 'weekend': 483,\n",
              " 'weissman': 484,\n",
              " 'wellhead': 485,\n",
              " 'width': 486,\n",
              " 'window': 487,\n",
              " 'wish': 488,\n",
              " 'word': 489,\n",
              " 'work': 490,\n",
              " 'working': 491,\n",
              " 'world': 492,\n",
              " 'www': 493,\n",
              " 'wynne': 494,\n",
              " 'xl': 495,\n",
              " 'yahoo': 496,\n",
              " 'year': 497,\n",
              " 'young': 498,\n",
              " 'zero': 499}"
            ]
          },
          "metadata": {
            "tags": []
          },
          "execution_count": 17
        }
      ]
    },
    {
      "cell_type": "markdown",
      "metadata": {
        "id": "j1livVVjM1FS"
      },
      "source": [
        "# Naive Bayes 모델 구현"
      ]
    },
    {
      "cell_type": "code",
      "metadata": {
        "id": "QmWaWFhFASgw",
        "colab": {
          "base_uri": "https://localhost:8080/"
        },
        "outputId": "a7b4c442-029b-4fba-f029-a7cc7e102f71"
      },
      "source": [
        "def get_prior(labels):\n",
        "  \"\"\"\n",
        "  p(yk)\n",
        "  \n",
        "  각 클래스의 비율을 Dictionary로 반환\n",
        "  \"\"\"\n",
        "  \n",
        "#### Code Exercise 1: ham 메일과 spam 메일의 개수를 활용하여 p(yk)를 구하세요. ####\n",
        "  \n",
        "  ham_cnt = 0\n",
        "  spam_cnt = 0\n",
        "  for i in labels:\n",
        "    if i == 0:\n",
        "      ham_cnt= ham_cnt+1\n",
        "    else:\n",
        "      spam_cnt=spam_cnt+1\n",
        "  \n",
        "  prior_ham = ham_cnt/len(labels)\n",
        "  prior_spam = spam_cnt/len(labels)\n",
        "#### End of Code Exercise 1 ####\n",
        "  prior = {\n",
        "    0: prior_ham, \n",
        "    1: prior_spam\n",
        "  }\n",
        "  return prior\n",
        "prior = get_prior(labels)\n",
        "prior"
      ],
      "execution_count": 18,
      "outputs": [
        {
          "output_type": "execute_result",
          "data": {
            "text/plain": [
              "{0: 0.7099767981438515, 1: 0.2900232018561485}"
            ]
          },
          "metadata": {
            "tags": []
          },
          "execution_count": 18
        }
      ]
    },
    {
      "cell_type": "code",
      "metadata": {
        "id": "-TH1341kQtxA"
      },
      "source": [
        "import numpy as np\n",
        "def get_likelihood(term_doc_matrix, labels, smoothing=0):\n",
        "  \"\"\"\n",
        "  p(x|yk) = p(x1|yk) * p(x2|yk) * ... * p(xn|yk)\n",
        "  \n",
        "  클래스(햄/스팸)에 특정 단어(x)가 포함되어있을 확률을 계산하고 Dictionary로 반환\n",
        "\n",
        "  \"\"\"\n",
        "  ham_index = []\n",
        "  spam_index = []\n",
        "\n",
        "  for index, label in enumerate(labels):\n",
        "    if label == 0:\n",
        "      ham_index.append(index)\n",
        "    else:\n",
        "      spam_index.append(index)\n",
        "\n",
        "#### Code Exercise 2: 햄과 스팸의 문서 인덱스를 활용하여 특정단어가 포함될 확률을 계산해주세요 (힌트: numpy를 활용하면 쉽습니다.)####\n",
        "  # ham\n",
        "  ham_likelihood = term_doc_matrix[ham_index,:].sum(axis=0) + smoothing\n",
        "  ham_likelihood = np.asarray(ham_likelihood)[0]\n",
        "  ham_likelihood = ham_likelihood / float(ham_likelihood.sum())\n",
        "  # spam\n",
        "  spam_likelihood = term_doc_matrix[spam_index,:].sum(axis=0) + smoothing\n",
        "  spam_likelihood = np.asarray(spam_likelihood)[0]\n",
        "  spam_likelihood = spam_likelihood / float(spam_likelihood.sum())\n",
        "  \n",
        "#### End of Code Exercise 2 ####\n",
        "  likelihood = {\n",
        "      0: ham_likelihood,\n",
        "      1: spam_likelihood\n",
        "  }\n",
        "  return likelihood"
      ],
      "execution_count": 19,
      "outputs": []
    },
    {
      "cell_type": "code",
      "metadata": {
        "id": "hHyCljsoIIw5"
      },
      "source": [
        "smoothing = 1\n",
        "likelihood = get_likelihood(term_docs, labels, smoothing) "
      ],
      "execution_count": 20,
      "outputs": []
    },
    {
      "cell_type": "code",
      "metadata": {
        "id": "tbHsp6e6iBIN"
      },
      "source": [
        "def get_posterior(term_doc_matrix, prior, likelihood):\n",
        "\n",
        "  \"\"\"\n",
        "  주어진 문서와 prior, likelihood를 바탕으로 posterior 계산\n",
        "  \"\"\"\n",
        "\n",
        "  num_docs = term_doc_matrix.shape[0]\n",
        "  posteriors = []\n",
        "\n",
        "#### Code Exercise 3: 아래의 빈칸을 채워 posterior 함수를 완성하세요. ####\n",
        "\n",
        "  for i in range(num_docs):\n",
        "    \n",
        "    posterior = {key: np.log(prior_label) for key, prior_label in prior.items()} \n",
        "    for label, likelihood_label in likelihood.items():\n",
        "      term_document_vector = term_doc_matrix.getrow(i)\n",
        "      for index in term_document_vector.indices :\n",
        "        posterior[label] += np.log(likelihood_label[index])\n",
        "      \n",
        "\n",
        "#### End of Code Exercise 3 ####\n",
        "    for label in posterior:\n",
        "      try:\n",
        "          posterior[label] = np.exp(posterior[label]) \n",
        "      except:      \n",
        "          posterior[label] = float('inf')\n",
        "    \n",
        "    sum_posterior = sum(posterior.values())\n",
        "    for label in posterior:\n",
        "      if posterior[label] == float('inf'):\n",
        "          posterior[label] = 1.0\n",
        "      else:\n",
        "          posterior[label] /= sum_posterior\n",
        "    \n",
        "    posteriors.append(posterior)\n",
        "\n",
        "  return posteriors"
      ],
      "execution_count": 21,
      "outputs": []
    },
    {
      "cell_type": "code",
      "metadata": {
        "id": "LrXqgDLso1uW",
        "colab": {
          "base_uri": "https://localhost:8080/"
        },
        "outputId": "0798d049-6711-45df-b359-332e8c028c19"
      },
      "source": [
        "posteriors = get_posterior(term_docs, prior, likelihood)"
      ],
      "execution_count": 22,
      "outputs": [
        {
          "output_type": "stream",
          "text": [
            "/usr/local/lib/python3.7/dist-packages/ipykernel_launcher.py:33: RuntimeWarning: invalid value encountered in double_scalars\n"
          ],
          "name": "stderr"
        }
      ]
    },
    {
      "cell_type": "code",
      "metadata": {
        "id": "7kFkqWOcminC"
      },
      "source": [
        "emails_test = [\n",
        "    '''Subject: flat screens\n",
        "    hello ,\n",
        "    please call or contact regarding the other flat screens requested .\n",
        "    trisha tlapek - eb 3132 b\n",
        "    michael sergeev - eb 3132 a\n",
        "    also the sun blocker that was taken away from eb 3131 a .\n",
        "    trisha should two monitors also michael .\n",
        "    thanks\n",
        "    kevin moore''',\n",
        "    '''Subject: having problems in bed ? we can help !\n",
        "    cialis allows men to enjoy a fully normal sex life without having to plan the sexual act .\n",
        "    if we let things terrify us , life will not be worth living .\n",
        "    brevity is the soul of lingerie .\n",
        "    suspicion always haunts the guilty mind .''',\n",
        "]"
      ],
      "execution_count": 23,
      "outputs": []
    },
    {
      "cell_type": "code",
      "metadata": {
        "id": "7gwrt0dwmjDw",
        "colab": {
          "base_uri": "https://localhost:8080/"
        },
        "outputId": "7bd8d5f9-00ee-4986-f0b6-12bd2c2fbd45"
      },
      "source": [
        "cleaned_test = [clean_text(doc) for doc in emails_test]\n",
        "term_docs_test = cv.transform(cleaned_test)\n",
        "posteriors_test = get_posterior(term_docs_test, prior, likelihood)\n",
        "print(posteriors_test)"
      ],
      "execution_count": 24,
      "outputs": [
        {
          "output_type": "stream",
          "text": [
            "[{0: 0.9743777025120353, 1: 0.02562229748796466}, {0: 0.008832277055985938, 1: 0.991167722944014}]\n"
          ],
          "name": "stdout"
        }
      ]
    },
    {
      "cell_type": "markdown",
      "metadata": {
        "id": "TGuBTSBttPXQ"
      },
      "source": [
        "# Naive Bayes 모델 훈련하기"
      ]
    },
    {
      "cell_type": "code",
      "metadata": {
        "id": "EKE01--gtN0R",
        "colab": {
          "base_uri": "https://localhost:8080/"
        },
        "outputId": "39692c21-4305-4d88-b28b-af157e4b931e"
      },
      "source": [
        "from sklearn.model_selection import train_test_split\n",
        "X_train, X_test, Y_train, Y_test = train_test_split(cleaned_emails, labels, test_size=0.33, random_state=123)\n",
        "print(len(X_train), len(Y_train), len(X_test), len(Y_test))"
      ],
      "execution_count": 25,
      "outputs": [
        {
          "output_type": "stream",
          "text": [
            "3465 3465 1707 1707\n"
          ],
          "name": "stdout"
        }
      ]
    },
    {
      "cell_type": "code",
      "metadata": {
        "id": "8UF_ePq5t7AN"
      },
      "source": [
        "term_docs_train = cv.fit_transform(X_train)\n",
        "prior = get_prior(Y_train)\n",
        "likelihood = get_likelihood(term_docs_train, Y_train, smoothing)"
      ],
      "execution_count": 26,
      "outputs": []
    },
    {
      "cell_type": "code",
      "metadata": {
        "id": "ee92TSLsDyi4",
        "colab": {
          "base_uri": "https://localhost:8080/"
        },
        "outputId": "d9c6f286-bb0a-42c2-97d4-e9c7170ab883"
      },
      "source": [
        "term_docs_test = cv.transform(X_test)\n",
        "posterior = get_posterior(term_docs_test, prior, likelihood)"
      ],
      "execution_count": 27,
      "outputs": [
        {
          "output_type": "stream",
          "text": [
            "/usr/local/lib/python3.7/dist-packages/ipykernel_launcher.py:33: RuntimeWarning: invalid value encountered in double_scalars\n"
          ],
          "name": "stderr"
        }
      ]
    },
    {
      "cell_type": "code",
      "metadata": {
        "id": "P1FMtTCjxlaS"
      },
      "source": [
        "correct = 0.0\n",
        "for pred, actual in zip(posterior, Y_test):\n",
        "    if actual == 1:\n",
        "        if pred[1] >= 0.5:\n",
        "            correct += 1\n",
        "    elif pred[0] > 0.5:\n",
        "        correct += 1"
      ],
      "execution_count": 28,
      "outputs": []
    },
    {
      "cell_type": "code",
      "metadata": {
        "id": "FNW2Wg3fz56J",
        "colab": {
          "base_uri": "https://localhost:8080/"
        },
        "outputId": "f0515328-d86b-4aa5-a8ea-120696a57edf"
      },
      "source": [
        "print('The accuracy on {0} testing samples is: {1:.1f}%'.format(len(Y_test), correct/len(Y_test)*100))"
      ],
      "execution_count": 29,
      "outputs": [
        {
          "output_type": "stream",
          "text": [
            "The accuracy on 1707 testing samples is: 90.0%\n"
          ],
          "name": "stdout"
        }
      ]
    }
  ]
}